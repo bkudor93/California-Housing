{
 "cells": [
  {
   "cell_type": "code",
   "execution_count": 1,
   "metadata": {},
   "outputs": [],
   "source": [
    "import pandas as pd\n",
    "\n",
    "from sklearn.datasets import fetch_california_housing\n",
    "from sklearn.model_selection import train_test_split\n",
    "from sklearn.tree import DecisionTreeRegressor\n",
    "from sklearn.metrics import classification_report\n",
    "from sklearn.metrics import mean_squared_error\n",
    "from sklearn import datasets\n",
    "from sklearn import svm\n",
    "from sklearn.model_selection import KFold\n",
    "from sklearn.model_selection import cross_val_score\n",
    "from sklearn.linear_model import Ridge, Lasso\n",
    "import numpy as np"
   ]
  },
  {
   "cell_type": "code",
   "execution_count": 2,
   "metadata": {},
   "outputs": [
    {
     "name": "stderr",
     "output_type": "stream",
     "text": [
      "Downloading Cal. housing from https://ndownloader.figshare.com/files/5976036 to /Users/brigittekudor/scikit_learn_data\n"
     ]
    }
   ],
   "source": [
    "data = fetch_california_housing()\n",
    "df = pd.DataFrame(data['data'], columns=data['feature_names'])\n",
    "df['price'] = data['target']\n",
    "\n",
    "target     = 'price'\n",
    "predictors = list(set(df.columns) - set([target]))\n",
    "\n",
    "df['strata'] = pd.qcut(df[target], q=10)\n",
    "df_train, df_test = train_test_split(df, test_size=0.2, stratify=df['strata'], random_state=123)\n"
   ]
  },
  {
   "cell_type": "markdown",
   "metadata": {},
   "source": [
    "1. Build a regression tree to predict the price.\n",
    "   Do 4-fold cross validation and report the average error for each fold."
   ]
  },
  {
   "cell_type": "code",
   "execution_count": 3,
   "metadata": {},
   "outputs": [
    {
     "name": "stdout",
     "output_type": "stream",
     "text": [
      "mse:  0.5457208473011077\n"
     ]
    }
   ],
   "source": [
    "X_train = df_train[predictors]\n",
    "y_train = df_train[target]\n",
    "\n",
    "X_test= df_test[predictors]\n",
    "y_test=df_test[target]\n",
    "\n",
    "model = DecisionTreeRegressor()\n",
    "model.fit(X_train, y_train)\n",
    "\n",
    "y_pred = model.predict(X_test)\n",
    "mse = mean_squared_error(y_test, y_pred)\n",
    "print('mse: ', mse)"
   ]
  },
  {
   "cell_type": "code",
   "execution_count": 25,
   "metadata": {},
   "outputs": [
    {
     "name": "stdout",
     "output_type": "stream",
     "text": [
      "0.5981913508437188\n"
     ]
    }
   ],
   "source": [
    "# cross validation, https://scikit-learn.org/stable/modules/cross_validation.html\n",
    "\n",
    "kfold = KFold(n_splits = 4, random_state = 1)\n",
    "results = cross_val_score(model, X_train, y_train, cv=kfold)\n",
    "print(results.mean())"
   ]
  },
  {
   "cell_type": "code",
   "execution_count": null,
   "metadata": {},
   "outputs": [],
   "source": []
  },
  {
   "cell_type": "markdown",
   "metadata": {},
   "source": [
    "### 2. Repeat step 1 using a random forest with 20 trees, with the same tree hyperparameters as above."
   ]
  },
  {
   "cell_type": "code",
   "execution_count": 46,
   "metadata": {},
   "outputs": [
    {
     "name": "stdout",
     "output_type": "stream",
     "text": [
      "random forest mse:  0.2668403970924886\n"
     ]
    }
   ],
   "source": [
    "#Import Random Forest Model\n",
    "from sklearn.ensemble import RandomForestRegressor\n",
    "from sklearn.preprocessing import LabelEncoder\n",
    "\n",
    "#lab_enc = LabelEncoder()\n",
    "#training_scores_encoded = lab_enc.fit_transform(y_train)\n",
    "\n",
    "\n",
    "rf=RandomForestRegressor(n_estimators=20)\n",
    "\n",
    "#Train the model using the training sets y_pred=clf.predict(X_test)\n",
    "rf.fit(X_train,y_train)\n",
    "\n",
    "y_pred_rf=rf.predict(X_test)\n",
    "\n",
    "#eval\n",
    "\n",
    "mse_rf = mean_squared_error(y_test, y_pred_rf)\n",
    "print('random forest mse: ', mse_rf)"
   ]
  },
  {
   "cell_type": "markdown",
   "metadata": {},
   "source": [
    "## 3. Try fitting a Lasso and Ridge regression model without feature engineering. \n",
    "   What is the optimal lambda? Why would this be the case?"
   ]
  },
  {
   "cell_type": "code",
   "execution_count": null,
   "metadata": {},
   "outputs": [],
   "source": []
  },
  {
   "cell_type": "code",
   "execution_count": 63,
   "metadata": {},
   "outputs": [
    {
     "name": "stderr",
     "output_type": "stream",
     "text": [
      "C:\\Users\\BrigitteKudor\\ANACONDA\\lib\\site-packages\\ipykernel_launcher.py:11: UserWarning: With alpha=0, this algorithm does not converge well. You are advised to use the LinearRegression estimator\n",
      "  # This is added back by InteractiveShellApp.init_path()\n",
      "C:\\Users\\BrigitteKudor\\ANACONDA\\lib\\site-packages\\sklearn\\linear_model\\coordinate_descent.py:475: UserWarning: Coordinate descent with no regularization may lead to unexpected results and is discouraged.\n",
      "  positive)\n",
      "C:\\Users\\BrigitteKudor\\ANACONDA\\lib\\site-packages\\sklearn\\linear_model\\coordinate_descent.py:475: ConvergenceWarning: Objective did not converge. You might want to increase the number of iterations. Duality gap: 4311.590379254732, tolerance: 2.1938732522213593\n",
      "  positive)\n"
     ]
    }
   ],
   "source": [
    "# Lasso\n",
    "\n",
    "results   = {} # contains the test mse for each value of lambda\n",
    "reg_paths = {} # contains the coefficients for each value of lambda\n",
    "\n",
    " \n",
    "\n",
    "for lambda_ in np.linspace(0,1,10):\n",
    "    # Fit the model\n",
    "    model = Lasso(alpha=lambda_)\n",
    "    model.fit(X_train, y_train)\n",
    "    coefficients = dict(zip(predictors, model.coef_))\n",
    "    reg_paths[lambda_] = coefficients\n",
    "    \n",
    "    # Evaluate the model on test set\n",
    "    y_hat_test = model.predict(X_test)\n",
    "    mse = mean_squared_error(y_test, y_hat_test)\n",
    "    results[lambda_] = mse"
   ]
  },
  {
   "cell_type": "code",
   "execution_count": null,
   "metadata": {},
   "outputs": [],
   "source": []
  },
  {
   "cell_type": "code",
   "execution_count": 64,
   "metadata": {},
   "outputs": [
    {
     "ename": "AttributeError",
     "evalue": "'AxesSubplot' object has no attribute 'show'",
     "output_type": "error",
     "traceback": [
      "\u001b[1;31m---------------------------------------------------------------------------\u001b[0m",
      "\u001b[1;31mAttributeError\u001b[0m                            Traceback (most recent call last)",
      "\u001b[1;32m<ipython-input-64-efb852482ceb>\u001b[0m in \u001b[0;36m<module>\u001b[1;34m\u001b[0m\n\u001b[0;32m      9\u001b[0m \u001b[0max\u001b[0m\u001b[1;33m.\u001b[0m\u001b[0mset_title\u001b[0m\u001b[1;33m(\u001b[0m\u001b[1;34m'Regularization paths for Lasso Regression'\u001b[0m\u001b[1;33m)\u001b[0m\u001b[1;33m\u001b[0m\u001b[1;33m\u001b[0m\u001b[0m\n\u001b[0;32m     10\u001b[0m \u001b[0max\u001b[0m\u001b[1;33m.\u001b[0m\u001b[0maxvline\u001b[0m\u001b[1;33m(\u001b[0m\u001b[0mmin\u001b[0m\u001b[1;33m(\u001b[0m\u001b[0mresults\u001b[0m\u001b[1;33m,\u001b[0m \u001b[0mkey\u001b[0m\u001b[1;33m=\u001b[0m\u001b[0mresults\u001b[0m\u001b[1;33m.\u001b[0m\u001b[0mget\u001b[0m\u001b[1;33m)\u001b[0m\u001b[1;33m)\u001b[0m\u001b[1;33m\u001b[0m\u001b[1;33m\u001b[0m\u001b[0m\n\u001b[1;32m---> 11\u001b[1;33m \u001b[0max\u001b[0m\u001b[1;33m.\u001b[0m\u001b[0mshow\u001b[0m\u001b[1;33m(\u001b[0m\u001b[1;33m)\u001b[0m\u001b[1;33m\u001b[0m\u001b[1;33m\u001b[0m\u001b[0m\n\u001b[0m",
      "\u001b[1;31mAttributeError\u001b[0m: 'AxesSubplot' object has no attribute 'show'"
     ]
    },
    {
     "data": {
      "image/png": "[encoded data removed]",
      "text/plain": [
       "<Figure size 432x288 with 1 Axes>"
      ]
     },
     "metadata": {
      "needs_background": "light"
     },
     "output_type": "display_data"
    }
   ],
   "source": [
    "import matplotlib.pyplot as plt\n",
    "\n",
    "fig, ax = plt.subplots()\n",
    "df_params = pd.DataFrame(reg_paths).T\n",
    "df_params.plot(ax=ax, marker='o', markersize=20)\n",
    "ax.grid()\n",
    "ax.set_xlabel('Lambda')\n",
    "ax.set_ylabel('Coefficient Value')\n",
    "ax.set_title('Regularization paths for Lasso Regression')\n",
    "ax.axvline(min(results, key=results.get))\n",
    "ax.show()"
   ]
  },
  {
   "cell_type": "code",
   "execution_count": 6,
   "metadata": {},
   "outputs": [],
   "source": [
    "# RIDGE\n",
    "\n",
    "results   = {} # contains the test mse for each value of lambda\n",
    "reg_paths = {} # contains the coefficients for each value of lambda\n",
    "\n",
    " \n",
    "\n",
    "for lambda_ in np.linspace(0,1,10):\n",
    "    # Fit the model\n",
    "    model = Ridge(alpha=lambda_)\n",
    "    model.fit(X_train, y_train)\n",
    "    coefficients = dict(zip(predictors, model.coef_))\n",
    "    reg_paths[lambda_] = coefficients\n",
    "    \n",
    "    # Evaluate the model on test set\n",
    "    y_hat_test = model.predict(X_test)\n",
    "    mse = mean_squared_error(y_test, y_hat_test)\n",
    "    results[lambda_] = mse"
   ]
  },
  {
   "cell_type": "markdown",
   "metadata": {},
   "source": [
    "### 5. Try hyperparameter tuning for trees and random forests.\n",
    "   Which hyperparameters are best for prediction?\n",
    "    Use Grid Search "
   ]
  },
  {
   "cell_type": "code",
   "execution_count": null,
   "metadata": {},
   "outputs": [],
   "source": []
  },
  {
   "cell_type": "markdown",
   "metadata": {},
   "source": [
    "\n"
   ]
  },
  {
   "cell_type": "code",
   "execution_count": null,
   "metadata": {},
   "outputs": [],
   "source": []
  }
 ],
 "metadata": {
  "kernelspec": {
   "display_name": "Python 3",
   "language": "python",
   "name": "python3"
  },
  "language_info": {
   "codemirror_mode": {
    "name": "ipython",
    "version": 3
   },
   "file_extension": ".py",
   "mimetype": "text/x-python",
   "name": "python",
   "nbconvert_exporter": "python",
   "pygments_lexer": "ipython3",
   "version": "3.6.4"
  }
 },
 "nbformat": 4,
 "nbformat_minor": 4
}
